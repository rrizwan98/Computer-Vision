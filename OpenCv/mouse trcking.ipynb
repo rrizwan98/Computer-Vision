{
 "cells": [
  {
   "cell_type": "code",
   "execution_count": 2,
   "id": "aaf2baac",
   "metadata": {},
   "outputs": [],
   "source": [
    "import numpy as np\n",
    "import matplotlib.pyplot as plt\n",
    "import cv2"
   ]
  },
  {
   "cell_type": "code",
   "execution_count": 3,
   "id": "a734c043",
   "metadata": {},
   "outputs": [
    {
     "name": "stdout",
     "output_type": "stream",
     "text": [
      "['EVENT_FLAG_ALTKEY', 'EVENT_FLAG_CTRLKEY', 'EVENT_FLAG_LBUTTON', 'EVENT_FLAG_MBUTTON', 'EVENT_FLAG_RBUTTON', 'EVENT_FLAG_SHIFTKEY', 'EVENT_LBUTTONDBLCLK', 'EVENT_LBUTTONDOWN', 'EVENT_LBUTTONUP', 'EVENT_MBUTTONDBLCLK', 'EVENT_MBUTTONDOWN', 'EVENT_MBUTTONUP', 'EVENT_MOUSEHWHEEL', 'EVENT_MOUSEMOVE', 'EVENT_MOUSEWHEEL', 'EVENT_RBUTTONDBLCLK', 'EVENT_RBUTTONDOWN', 'EVENT_RBUTTONUP']\n"
     ]
    }
   ],
   "source": [
    "events=[i for i in dir(cv2) if 'EVENT' in i]\n",
    "print(events)"
   ]
  },
  {
   "cell_type": "code",
   "execution_count": 4,
   "id": "7d754453",
   "metadata": {},
   "outputs": [],
   "source": [
    "img=cv2.imread('parrot1.jpg')\n",
    "\n",
    "cv2.namedWindow('image')\n",
    "\n",
    "def draw_circle(event,x,y,flags,userdata):\n",
    "\n",
    "#when user double clicks the left button draw a circle \n",
    "    if event == cv2.EVENT_LBUTTONDBLCLK: \n",
    "        cv2.circle(img,(x,y),10,(255,0,0),-1)\n",
    "\n",
    "cv2.setMouseCallback('image',draw_circle)\n",
    "\n",
    "while(1):\n",
    "    cv2.imshow('image',img)\n",
    "    if cv2.waitKey(20) & 0xFF == 27: break\n",
    "\n",
    "cv2.destroyAllWindows()"
   ]
  },
  {
   "cell_type": "markdown",
   "id": "94272171",
   "metadata": {},
   "source": [
    "## Mouse Tracking"
   ]
  },
  {
   "cell_type": "code",
   "execution_count": 5,
   "id": "e2110a47",
   "metadata": {},
   "outputs": [],
   "source": [
    "img1=np.zeros((512,512,3),np.uint8)\n",
    "\n",
    "cv2.namedWindow('image')\n",
    "\n",
    "def nothing(x):\n",
    "    pass\n",
    "cv2.createTrackbar('Radius','image',5,200,nothing)\n",
    "\n",
    "def draw_circle(event,x,y,flags,param): \n",
    "    if event == cv2.EVENT_LBUTTONDBLCLK:\n",
    "        cv2.circle(img1,(x,y),radius,(255,0,0),-1)\n",
    "        \n",
    "cv2.setMouseCallback('image',draw_circle)\n",
    "\n",
    "while(1):\n",
    "    cv2.imshow('image',img1)\n",
    "    # get the updated values from the trackbar \n",
    "    radius = cv2.getTrackbarPos('Radius','image')\n",
    "\n",
    "    if cv2.waitKey(20) & 0xFF == 27: \n",
    "        break\n",
    "\n",
    "cv2.destroyAllWindows()"
   ]
  },
  {
   "cell_type": "code",
   "execution_count": 8,
   "id": "b61a2090",
   "metadata": {},
   "outputs": [],
   "source": []
  },
  {
   "cell_type": "markdown",
   "id": "a0086616",
   "metadata": {},
   "source": [
    "### Assignment: You have add 3 more trackbars to the above and control the BGR color of circle through those trackbars and also you have to add an Option to clear up the black image by pressing 'c'"
   ]
  },
  {
   "cell_type": "code",
   "execution_count": 12,
   "id": "83d9c99a",
   "metadata": {},
   "outputs": [],
   "source": [
    "img1=np.zeros((512,512,3),np.uint8)\n",
    "\n",
    "windowname='image'\n",
    "cv2.namedWindow(windowname)\n",
    "\n",
    "def nothing(x):\n",
    "    pass\n",
    "cv2.createTrackbar('Blue', windowname, 0, 255, nothing)#and also used pass function\n",
    "cv2.createTrackbar('Green',windowname, 0, 255, nothing)\n",
    "cv2.createTrackbar('Red', windowname, 0, 255, nothing)\n",
    "\n",
    "def draw_circle(event,x,y,flags,param): \n",
    "    if event == cv2.EVENT_LBUTTONDBLCLK:\n",
    "        cv2.circle(img1,(x,y),blue,(255,0,0),-1)\n",
    "        cv2.circle(img1,(x,y),green,(0,255,0),-1)\n",
    "        cv2.circle(img1,(x,y),red,(0,0,255),-1)\n",
    "        \n",
    "cv2.setMouseCallback('image',draw_circle)\n",
    "\n",
    "while(1):\n",
    "    cv2.imshow('image',img1)\n",
    "    # get the updated values from the trackbar \n",
    "    blue = cv2.getTrackbarPos('Blue', windowname)\n",
    "    green = cv2.getTrackbarPos('Green', windowname)\n",
    "    red = cv2.getTrackbarPos('Red', windowname)\n",
    "\n",
    "    if cv2.waitKey(20) & 0xFF == 27: \n",
    "        break\n",
    "\n",
    "cv2.destroyAllWindows()"
   ]
  },
  {
   "cell_type": "code",
   "execution_count": null,
   "id": "4cad51af",
   "metadata": {},
   "outputs": [],
   "source": []
  },
  {
   "cell_type": "code",
   "execution_count": null,
   "id": "a32f5010",
   "metadata": {},
   "outputs": [],
   "source": []
  }
 ],
 "metadata": {
  "kernelspec": {
   "display_name": "Python 3",
   "language": "python",
   "name": "python3"
  },
  "language_info": {
   "codemirror_mode": {
    "name": "ipython",
    "version": 3
   },
   "file_extension": ".py",
   "mimetype": "text/x-python",
   "name": "python",
   "nbconvert_exporter": "python",
   "pygments_lexer": "ipython3",
   "version": "3.8.8"
  }
 },
 "nbformat": 4,
 "nbformat_minor": 5
}
